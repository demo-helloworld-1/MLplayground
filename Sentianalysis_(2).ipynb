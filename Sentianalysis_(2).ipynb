{
  "nbformat": 4,
  "nbformat_minor": 0,
  "metadata": {
    "colab": {
      "provenance": [],
      "include_colab_link": true
    },
    "kernelspec": {
      "name": "python3",
      "display_name": "Python 3"
    },
    "language_info": {
      "name": "python"
    }
  },
  "cells": [
    {
      "cell_type": "markdown",
      "metadata": {
        "id": "view-in-github",
        "colab_type": "text"
      },
      "source": [
        "<a href=\"https://colab.research.google.com/github/demo-helloworld-1/MLplayground/blob/main/Sentianalysis_(2).ipynb\" target=\"_parent\"><img src=\"https://colab.research.google.com/assets/colab-badge.svg\" alt=\"Open In Colab\"/></a>"
      ]
    },
    {
      "source": [
        "!pip install nltk textblob"
      ],
      "cell_type": "code",
      "metadata": {
        "colab": {
          "base_uri": "https://localhost:8080/"
        },
        "id": "b1U7UUAphLZi",
        "outputId": "1b8a3a15-c8bf-472e-853a-e5303577768f"
      },
      "execution_count": null,
      "outputs": [
        {
          "output_type": "stream",
          "name": "stdout",
          "text": [
            "Requirement already satisfied: nltk in /usr/local/lib/python3.11/dist-packages (3.9.1)\n",
            "Requirement already satisfied: textblob in /usr/local/lib/python3.11/dist-packages (0.17.1)\n",
            "Requirement already satisfied: click in /usr/local/lib/python3.11/dist-packages (from nltk) (8.1.8)\n",
            "Requirement already satisfied: joblib in /usr/local/lib/python3.11/dist-packages (from nltk) (1.4.2)\n",
            "Requirement already satisfied: regex>=2021.8.3 in /usr/local/lib/python3.11/dist-packages (from nltk) (2024.11.6)\n",
            "Requirement already satisfied: tqdm in /usr/local/lib/python3.11/dist-packages (from nltk) (4.67.1)\n"
          ]
        }
      ]
    },
    {
      "source": [
        "import nltk\n",
        "from textblob import TextBlob"
      ],
      "cell_type": "code",
      "metadata": {
        "id": "aRSi7fmNhMJH"
      },
      "execution_count": null,
      "outputs": []
    },
    {
      "source": [
        "nltk.download('punkt')\n",
        "nltk.download('vader_lexicon')"
      ],
      "cell_type": "code",
      "metadata": {
        "colab": {
          "base_uri": "https://localhost:8080/"
        },
        "id": "YlI21o8IhMs3",
        "outputId": "a6291d14-e01b-46f5-ca3a-ccc69d4bbb27"
      },
      "execution_count": null,
      "outputs": [
        {
          "output_type": "stream",
          "name": "stderr",
          "text": [
            "[nltk_data] Downloading package punkt to /root/nltk_data...\n",
            "[nltk_data]   Unzipping tokenizers/punkt.zip.\n",
            "[nltk_data] Downloading package vader_lexicon to /root/nltk_data...\n"
          ]
        },
        {
          "output_type": "execute_result",
          "data": {
            "text/plain": [
              "True"
            ]
          },
          "metadata": {},
          "execution_count": 3
        }
      ]
    },
    {
      "source": [
        "def analyze_sentiment(text):\n",
        "    analysis = TextBlob(text)\n",
        "    # Classify sentiment as positive, negative, or neutral\n",
        "    if analysis.sentiment.polarity > 0:\n",
        "        return 'positive'\n",
        "    elif analysis.sentiment.polarity == 0:\n",
        "        return 'neutral'\n",
        "    else:\n",
        "        return 'negative'\n",
        "# Example usage:\n",
        "text = \"I need to buy this product again and again, but this product could be much better\"\n",
        "sentiment = analyze_sentiment(text)\n",
        "print(f\"Sentiment: {sentiment}\")"
      ],
      "cell_type": "code",
      "metadata": {
        "colab": {
          "base_uri": "https://localhost:8080/"
        },
        "id": "qJ4W82IOhN_3",
        "outputId": "0f728f54-8989-434e-bf6c-87571852b744"
      },
      "execution_count": null,
      "outputs": [
        {
          "output_type": "stream",
          "name": "stdout",
          "text": [
            "Sentiment: positive\n"
          ]
        }
      ]
    },
    {
      "source": [
        "import nltk\n",
        "from textblob import TextBlob\n",
        "\n",
        "\n",
        "def analyze_sentiment(text):\n",
        "    analysis = TextBlob(text)\n",
        "    # Calculate sentiment percentages\n",
        "    positive_percentage = (analysis.sentiment.polarity + 1) / 2 * 100\n",
        "    negative_percentage = (1 - analysis.sentiment.polarity) / 2 * 100\n",
        "\n",
        "    # Classify sentiment based on percentages\n",
        "    if positive_percentage > negative_percentage:\n",
        "        sentiment = 'positive'\n",
        "    elif positive_percentage < negative_percentage:\n",
        "        sentiment = 'negative'\n",
        "    else:\n",
        "        sentiment = 'neutral'\n",
        "\n",
        "    # Return sentiment and percentages\n",
        "    return sentiment, positive_percentage, negative_percentage\n",
        "\n",
        "# Example usage\n",
        "text = \"         \"\n",
        "sentiment, positive_percentage, negative_percentage = analyze_sentiment(text)\n",
        "\n",
        "print(f\"Sentiment: {sentiment}\")\n",
        "print(f\"Positive Percentage: {positive_percentage:.2f}%\")\n",
        "print(f\"Negative Percentage: {negative_percentage:.2f}%\")"
      ],
      "cell_type": "code",
      "metadata": {
        "colab": {
          "base_uri": "https://localhost:8080/"
        },
        "id": "SNDY1KkJhuPU",
        "outputId": "59bf84ef-a479-4acf-cace-ae67ef9dd496"
      },
      "execution_count": null,
      "outputs": [
        {
          "output_type": "stream",
          "name": "stdout",
          "text": [
            "Sentiment: neutral\n",
            "Positive Percentage: 50.00%\n",
            "Negative Percentage: 50.00%\n"
          ]
        }
      ]
    },
    {
      "source": [
        "import pandas as pd\n",
        "df = pd.read_excel('/root/.cache/kagglehub/datasets/abhi8923shriv/sentiment-analysis-dataset/versions/9/train.csv')"
      ],
      "cell_type": "code",
      "metadata": {
        "id": "6hr-vQ1Kk9dj"
      },
      "execution_count": null,
      "outputs": []
    },
    {
      "source": [
        "def analyze_sentiment_file(text):\n",
        "    analysis = TextBlob(text)\n",
        "    # Classify sentiment as positive, negative, or neutral\n",
        "    if analysis.sentiment.polarity > 0:\n",
        "        return 'positive'\n",
        "    elif analysis.sentiment.polarity == 0:\n",
        "        return 'neutral'\n",
        "    else:\n",
        "        return 'negative'"
      ],
      "cell_type": "code",
      "metadata": {
        "id": "31ZA8xV5lGX2"
      },
      "execution_count": null,
      "outputs": []
    },
    {
      "source": [
        "df['sentiment'] = df['feedback'].apply(analyze_sentiment_file)  # Assuming your feedback column is named 'feedback'"
      ],
      "cell_type": "code",
      "metadata": {
        "id": "RjP2DFnQlK9I"
      },
      "execution_count": null,
      "outputs": []
    },
    {
      "source": [
        "print(df[['rating', 'feedback', 'sentiment']])  # Print the relevant columns\n",
        "df.to_excel('output_file.xlsx', index=False)  # Save results to a new Excel file (optional)"
      ],
      "cell_type": "code",
      "metadata": {
        "id": "aqYcNIoulPFo"
      },
      "execution_count": null,
      "outputs": []
    },
    {
      "cell_type": "markdown",
      "source": [
        "# Lets Begin with Senti Analysis on one of the Twitter's Dataset"
      ],
      "metadata": {
        "id": "clFQUhtOms4N"
      }
    },
    {
      "cell_type": "markdown",
      "source": [
        "Credits: Kaggle Open Dataset"
      ],
      "metadata": {
        "id": "LKLHiED1m2aw"
      }
    }
  ]
}