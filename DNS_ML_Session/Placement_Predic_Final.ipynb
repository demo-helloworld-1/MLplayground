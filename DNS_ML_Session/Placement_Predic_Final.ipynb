{
 "cells": [
  {
   "cell_type": "markdown",
   "id": "4493695e-2375-43cd-b3ec-7797fb50e8e5",
   "metadata": {},
   "source": [
    "# Placement prediction model"
   ]
  },
  {
   "cell_type": "code",
   "execution_count": 1,
   "id": "0ad11fd1-c6b4-466d-94e8-85b9d41b3442",
   "metadata": {},
   "outputs": [
    {
     "name": "stdout",
     "output_type": "stream",
     "text": [
      "Warning: Looks like you're using an outdated `kagglehub` version (installed: 0.3.7), please consider upgrading to the latest version (0.3.8).\n",
      "Path to dataset files: C:\\Users\\dhanu\\.cache\\kagglehub\\datasets\\ruchikakumbhar\\placement-prediction-dataset\\versions\\1\n"
     ]
    }
   ],
   "source": [
    "import kagglehub\n",
    "\n",
    "# Download latest version\n",
    "path = kagglehub.dataset_download(\"ruchikakumbhar/placement-prediction-dataset\")\n",
    "\n",
    "print(\"Path to dataset files:\", path)"
   ]
  },
  {
   "cell_type": "code",
   "execution_count": 2,
   "id": "6814d741-07d5-4234-a61d-84db54f60951",
   "metadata": {},
   "outputs": [],
   "source": [
    "import pandas as pd\n",
    "\n",
    "try:\n",
    "       df = pd.read_csv(path+'/placementdata.csv', encoding='utf-8')\n",
    "except UnicodeDecodeError:\n",
    "       df = pd.read_csv(path+'/placementdata.csv', encoding='latin-1')"
   ]
  },
  {
   "cell_type": "code",
   "execution_count": 3,
   "id": "9660b13c-5f4c-4be6-b85f-d1413e15452d",
   "metadata": {},
   "outputs": [
    {
     "data": {
      "text/plain": [
       "Index(['StudentID', 'CGPA', 'Internships', 'Projects',\n",
       "       'Workshops/Certifications', 'AptitudeTestScore', 'SoftSkillsRating',\n",
       "       'ExtracurricularActivities', 'PlacementTraining', 'SSC_Marks',\n",
       "       'HSC_Marks', 'PlacementStatus'],\n",
       "      dtype='object')"
      ]
     },
     "execution_count": 3,
     "metadata": {},
     "output_type": "execute_result"
    }
   ],
   "source": [
    "df.columns"
   ]
  },
  {
   "cell_type": "code",
   "execution_count": 4,
   "id": "94e0fe67-7596-477a-9760-d88e175414a7",
   "metadata": {},
   "outputs": [
    {
     "data": {
      "text/plain": [
       "<bound method NDFrame.head of       StudentID  CGPA  Internships  Projects  Workshops/Certifications  \\\n",
       "0             1   7.5            1         1                         1   \n",
       "1             2   8.9            0         3                         2   \n",
       "2             3   7.3            1         2                         2   \n",
       "3             4   7.5            1         1                         2   \n",
       "4             5   8.3            1         2                         2   \n",
       "...         ...   ...          ...       ...                       ...   \n",
       "9995       9996   7.5            1         1                         2   \n",
       "9996       9997   7.4            0         1                         0   \n",
       "9997       9998   8.4            1         3                         0   \n",
       "9998       9999   8.9            0         3                         2   \n",
       "9999      10000   8.4            0         1                         1   \n",
       "\n",
       "      AptitudeTestScore  SoftSkillsRating ExtracurricularActivities  \\\n",
       "0                    65               4.4                        No   \n",
       "1                    90               4.0                       Yes   \n",
       "2                    82               4.8                       Yes   \n",
       "3                    85               4.4                       Yes   \n",
       "4                    86               4.5                       Yes   \n",
       "...                 ...               ...                       ...   \n",
       "9995                 72               3.9                       Yes   \n",
       "9996                 90               4.8                        No   \n",
       "9997                 70               4.8                       Yes   \n",
       "9998                 87               4.8                       Yes   \n",
       "9999                 66               3.8                        No   \n",
       "\n",
       "     PlacementTraining  SSC_Marks  HSC_Marks PlacementStatus  \n",
       "0                   No         61         79       NotPlaced  \n",
       "1                  Yes         78         82          Placed  \n",
       "2                   No         79         80       NotPlaced  \n",
       "3                  Yes         81         80          Placed  \n",
       "4                  Yes         74         88          Placed  \n",
       "...                ...        ...        ...             ...  \n",
       "9995                No         85         66       NotPlaced  \n",
       "9996                No         84         67          Placed  \n",
       "9997               Yes         79         81          Placed  \n",
       "9998               Yes         71         85          Placed  \n",
       "9999                No         62         66       NotPlaced  \n",
       "\n",
       "[10000 rows x 12 columns]>"
      ]
     },
     "execution_count": 4,
     "metadata": {},
     "output_type": "execute_result"
    }
   ],
   "source": [
    "df.head"
   ]
  },
  {
   "cell_type": "markdown",
   "id": "2e09243a-8b30-4e9e-9ab4-cfb561b01db4",
   "metadata": {},
   "source": [
    "## Handling Missing Data"
   ]
  },
  {
   "cell_type": "code",
   "execution_count": 5,
   "id": "f6c98876-73d4-4e6e-b6ec-22f22d32689c",
   "metadata": {},
   "outputs": [
    {
     "name": "stdout",
     "output_type": "stream",
     "text": [
      "StudentID                    0\n",
      "CGPA                         0\n",
      "Internships                  0\n",
      "Projects                     0\n",
      "Workshops/Certifications     0\n",
      "AptitudeTestScore            0\n",
      "SoftSkillsRating             0\n",
      "ExtracurricularActivities    0\n",
      "PlacementTraining            0\n",
      "SSC_Marks                    0\n",
      "HSC_Marks                    0\n",
      "PlacementStatus              0\n",
      "dtype: int64\n"
     ]
    }
   ],
   "source": [
    "# Checking for missing values\n",
    "print(df.isnull().sum())"
   ]
  },
  {
   "cell_type": "code",
   "execution_count": 6,
   "id": "27394d48-6e40-47eb-b6d0-af67831935f0",
   "metadata": {},
   "outputs": [],
   "source": [
    "# you can fill missing values with a specific value\n",
    "df.fillna(\"missing\", inplace=True)"
   ]
  },
  {
   "cell_type": "markdown",
   "id": "8949b74f-3022-481f-93e0-5fd5fa17a83e",
   "metadata": {},
   "source": [
    "### Or you can fill the previous non-null value"
   ]
  },
  {
   "cell_type": "raw",
   "id": "b77761e3-b232-489a-a0cb-3cac4a8fa286",
   "metadata": {},
   "source": [
    "# Handling missing values (if any)\n",
    "df.fillna(method='ffill', inplace=True)"
   ]
  },
  {
   "cell_type": "markdown",
   "id": "b8ae1b52-8914-4b6a-8903-5977b3c2cf83",
   "metadata": {},
   "source": [
    "Lets convert our Placement column to a numeric bcz of placement column have values called Placed and NotPlace"
   ]
  },
  {
   "cell_type": "code",
   "execution_count": 7,
   "id": "16f010c1-230d-4809-9754-de6e89d4bbe6",
   "metadata": {},
   "outputs": [],
   "source": [
    "from sklearn.preprocessing import LabelEncoder\n",
    "\n",
    "# Create an instance of LabelEncoder\n",
    "label_encoder = LabelEncoder()\n",
    "\n",
    "# Encoding categorical variables for PlacementStatus, ExtracurricularActivities, and PlacementTraining\n",
    "df['PlacementStatus'] = label_encoder.fit_transform(df['PlacementStatus'])\n",
    "df['ExtracurricularActivities'] = label_encoder.fit_transform(df['ExtracurricularActivities'])\n",
    "df['PlacementTraining'] = label_encoder.fit_transform(df['PlacementTraining'])"
   ]
  },
  {
   "cell_type": "code",
   "execution_count": 8,
   "id": "07120431-888b-498d-8c75-92c94f8f5528",
   "metadata": {},
   "outputs": [
    {
     "name": "stdout",
     "output_type": "stream",
     "text": [
      "    PlacementStatus  ExtracurricularActivities  PlacementTraining\n",
      "0                 0                          0                  0\n",
      "1                 1                          1                  1\n",
      "2                 0                          1                  0\n",
      "3                 1                          1                  1\n",
      "4                 1                          1                  1\n",
      "5                 0                          1                  0\n",
      "6                 0                          0                  0\n",
      "7                 0                          1                  1\n",
      "8                 0                          0                  1\n",
      "9                 1                          1                  1\n",
      "10                1                          1                  1\n",
      "11                1                          1                  1\n",
      "12                1                          1                  1\n",
      "13                0                          0                  1\n",
      "14                0                          0                  0\n",
      "15                0                          0                  0\n",
      "16                1                          1                  1\n",
      "17                1                          1                  1\n",
      "18                1                          1                  1\n",
      "19                0                          0                  1\n"
     ]
    }
   ],
   "source": [
    "print(df[['PlacementStatus','ExtracurricularActivities','PlacementTraining']].head(20))"
   ]
  },
  {
   "cell_type": "markdown",
   "id": "00dcd882-09ea-4521-96f6-422b92e39f9b",
   "metadata": {},
   "source": [
    "Lets consider our X and Y values\n",
    "\n",
    "X will be our input\n",
    "y will be our output and prediction"
   ]
  },
  {
   "cell_type": "code",
   "execution_count": 9,
   "id": "4eae3a2f-065d-4898-bbd1-f2035a4f5b38",
   "metadata": {},
   "outputs": [],
   "source": [
    "# Define features (X) and target (y)\n",
    "X = df.drop(columns=['StudentID', 'PlacementStatus'])\n",
    "y = df['PlacementStatus']"
   ]
  },
  {
   "cell_type": "markdown",
   "id": "903e8e67-9be7-400f-8923-e6ba76032100",
   "metadata": {},
   "source": [
    "Lets split our data into 2 sets 1 for training and other for testing"
   ]
  },
  {
   "cell_type": "code",
   "execution_count": 10,
   "id": "3253dbf5-91ca-43fe-96bd-06bc312972b6",
   "metadata": {},
   "outputs": [],
   "source": [
    "from sklearn.model_selection import train_test_split\n",
    "\n",
    "# Split data into training and testing sets\n",
    "X_train, X_test, y_train, y_test = train_test_split(X, y, test_size=0.2, random_state=42)"
   ]
  },
  {
   "cell_type": "markdown",
   "id": "209a8472-0cdd-468b-a378-b982d515b800",
   "metadata": {},
   "source": [
    "### Standardize"
   ]
  },
  {
   "cell_type": "markdown",
   "id": "1b3b958e-78d8-4cf5-94a4-5d45f586e965",
   "metadata": {},
   "source": [
    "Let's say you and your friends decided to compare heights, but you have friends from different parts of the world, and the heights are measured in different units (some in inches, some in centimeters, etc.). It becomes hard to compare who is taller or shorter directly because the units are different."
   ]
  },
  {
   "cell_type": "code",
   "execution_count": 11,
   "id": "7ad81134-2a9e-44b7-9a1d-da5268acb3ff",
   "metadata": {},
   "outputs": [],
   "source": [
    "from sklearn.preprocessing import StandardScaler\n",
    "\n",
    "# Standardize features\n",
    "scaler = StandardScaler()\n",
    "X_train = scaler.fit_transform(X_train)\n",
    "X_test = scaler.transform(X_test)\n"
   ]
  },
  {
   "cell_type": "code",
   "execution_count": 12,
   "id": "fe58f7b5-a615-4ba9-83b8-d4b22d2d1bb2",
   "metadata": {},
   "outputs": [
    {
     "data": {
      "text/plain": [
       "array([[ 0.47139169, -0.06556468,  1.12252363, ..., -1.66274047,\n",
       "         1.32455626,  1.51440106],\n",
       "       [-0.1536667 , -0.06556468, -0.0307047 , ...,  0.60141677,\n",
       "        -0.78588907,  1.17849265],\n",
       "       [ 0.78392088, -0.06556468,  1.12252363, ...,  0.60141677,\n",
       "         0.65305093, -1.06089672],\n",
       "       ...,\n",
       "       [-0.46619589, -0.06556468, -1.18393304, ...,  0.60141677,\n",
       "        -1.36146508, -0.94892725],\n",
       "       [ 0.47139169, -0.06556468, -1.18393304, ..., -1.66274047,\n",
       "        -1.36146508, -0.94892725],\n",
       "       [ 0.78392088, -0.06556468,  1.12252363, ...,  0.60141677,\n",
       "         1.22862693, -0.27711044]])"
      ]
     },
     "execution_count": 12,
     "metadata": {},
     "output_type": "execute_result"
    }
   ],
   "source": [
    "X_train"
   ]
  },
  {
   "cell_type": "markdown",
   "id": "8abc7b3d-4146-43cd-a86f-e3140d0df07e",
   "metadata": {},
   "source": [
    "### Random Forest Classifier."
   ]
  },
  {
   "cell_type": "code",
   "execution_count": 13,
   "id": "b00379fe-2f72-4324-bd85-8c099f96dfdd",
   "metadata": {},
   "outputs": [
    {
     "name": "stdout",
     "output_type": "stream",
     "text": [
      "RandomForestClassifier Accuracy: 0.781\n",
      "Classification Report:\n",
      "              precision    recall  f1-score   support\n",
      "\n",
      "           0       0.80      0.83      0.82      1172\n",
      "           1       0.75      0.71      0.73       828\n",
      "\n",
      "    accuracy                           0.78      2000\n",
      "   macro avg       0.78      0.77      0.77      2000\n",
      "weighted avg       0.78      0.78      0.78      2000\n",
      "\n"
     ]
    }
   ],
   "source": [
    "from sklearn.ensemble import RandomForestClassifier\n",
    "from sklearn.metrics import accuracy_score, classification_report\n",
    "\n",
    "# Initialize and train the model\n",
    "model = RandomForestClassifier(random_state=42)\n",
    "model.fit(X_train, y_train)\n",
    "\n",
    "# Make predictions on the test set\n",
    "y_pred = model.predict(X_test)\n",
    "\n",
    "# Evaluate the model\n",
    "accuracy = accuracy_score(y_test, y_pred)\n",
    "report = classification_report(y_test, y_pred)\n",
    "\n",
    "print(f'RandomForestClassifier Accuracy: {accuracy}')\n",
    "print(f'Classification Report:\\n{report}')"
   ]
  },
  {
   "cell_type": "code",
   "execution_count": 14,
   "id": "6af686d1-f78e-4fd6-b042-b62e7f9c7864",
   "metadata": {},
   "outputs": [
    {
     "name": "stdout",
     "output_type": "stream",
     "text": [
      "Logistic Regression Accuracy: 0.7945\n",
      "Logistic Regression Classification Report:\n",
      "              precision    recall  f1-score   support\n",
      "\n",
      "           0       0.83      0.81      0.82      1172\n",
      "           1       0.74      0.77      0.76       828\n",
      "\n",
      "    accuracy                           0.79      2000\n",
      "   macro avg       0.79      0.79      0.79      2000\n",
      "weighted avg       0.80      0.79      0.79      2000\n",
      "\n"
     ]
    }
   ],
   "source": [
    "from sklearn.linear_model import LogisticRegression\n",
    "\n",
    "# Initialize and train the model\n",
    "logistic_model = LogisticRegression(random_state=42)\n",
    "logistic_model.fit(X_train, y_train)\n",
    "\n",
    "# Make predictions\n",
    "y_pred = logistic_model.predict(X_test)\n",
    "\n",
    "# Evaluate the model\n",
    "accuracy = accuracy_score(y_test, y_pred)\n",
    "report = classification_report(y_test, y_pred)\n",
    "\n",
    "print(f'Logistic Regression Accuracy: {accuracy}')\n",
    "print(f'Logistic Regression Classification Report:\\n{report}')\n"
   ]
  },
  {
   "cell_type": "markdown",
   "id": "497ac1c5-dcc1-43ca-99dd-69f40e6f6096",
   "metadata": {},
   "source": [
    "You should never go with the single model. You need to compair and check which model performs best"
   ]
  },
  {
   "cell_type": "code",
   "execution_count": 15,
   "id": "2d8c94c0-ee62-4006-9de1-93045fe948be",
   "metadata": {},
   "outputs": [
    {
     "name": "stdout",
     "output_type": "stream",
     "text": [
      "Requirement already satisfied: xgboost in c:\\users\\dhanu\\anaconda3\\lib\\site-packages (2.1.3)\n",
      "Requirement already satisfied: numpy in c:\\users\\dhanu\\anaconda3\\lib\\site-packages (from xgboost) (1.26.4)\n",
      "Requirement already satisfied: scipy in c:\\users\\dhanu\\anaconda3\\lib\\site-packages (from xgboost) (1.13.1)\n"
     ]
    }
   ],
   "source": [
    "!pip install xgboost"
   ]
  },
  {
   "cell_type": "code",
   "execution_count": 16,
   "id": "e8545f35-5d28-4f1e-98e5-07fb19347729",
   "metadata": {},
   "outputs": [
    {
     "name": "stdout",
     "output_type": "stream",
     "text": [
      "Random Forest Accuracy: 0.781\n",
      "Random Forest Classification Report:\n",
      "              precision    recall  f1-score   support\n",
      "\n",
      "           0       0.80      0.83      0.82      1172\n",
      "           1       0.75      0.71      0.73       828\n",
      "\n",
      "    accuracy                           0.78      2000\n",
      "   macro avg       0.78      0.77      0.77      2000\n",
      "weighted avg       0.78      0.78      0.78      2000\n",
      "\n",
      "Logistic Regression Accuracy: 0.7945\n",
      "Logistic Regression Classification Report:\n",
      "              precision    recall  f1-score   support\n",
      "\n",
      "           0       0.83      0.81      0.82      1172\n",
      "           1       0.74      0.77      0.76       828\n",
      "\n",
      "    accuracy                           0.79      2000\n",
      "   macro avg       0.79      0.79      0.79      2000\n",
      "weighted avg       0.80      0.79      0.79      2000\n",
      "\n",
      "SVM Accuracy: 0.793\n",
      "SVM Classification Report:\n",
      "              precision    recall  f1-score   support\n",
      "\n",
      "           0       0.82      0.83      0.82      1172\n",
      "           1       0.75      0.75      0.75       828\n",
      "\n",
      "    accuracy                           0.79      2000\n",
      "   macro avg       0.79      0.79      0.79      2000\n",
      "weighted avg       0.79      0.79      0.79      2000\n",
      "\n",
      "Gradient Boosting Accuracy: 0.791\n",
      "Gradient Boosting Classification Report:\n",
      "              precision    recall  f1-score   support\n",
      "\n",
      "           0       0.82      0.83      0.82      1172\n",
      "           1       0.75      0.74      0.74       828\n",
      "\n",
      "    accuracy                           0.79      2000\n",
      "   macro avg       0.78      0.78      0.78      2000\n",
      "weighted avg       0.79      0.79      0.79      2000\n",
      "\n",
      "XGBoost Accuracy: 0.7815\n",
      "XGBoost Classification Report:\n",
      "              precision    recall  f1-score   support\n",
      "\n",
      "           0       0.81      0.82      0.82      1172\n",
      "           1       0.74      0.72      0.73       828\n",
      "\n",
      "    accuracy                           0.78      2000\n",
      "   macro avg       0.78      0.77      0.77      2000\n",
      "weighted avg       0.78      0.78      0.78      2000\n",
      "\n"
     ]
    }
   ],
   "source": [
    "from sklearn.ensemble import RandomForestClassifier, GradientBoostingClassifier\n",
    "from sklearn.linear_model import LogisticRegression\n",
    "from sklearn.svm import SVC\n",
    "from xgboost import XGBClassifier\n",
    "from sklearn.metrics import accuracy_score, classification_report\n",
    "\n",
    "# Initialize models\n",
    "models = {\n",
    "    \"Random Forest\": RandomForestClassifier(random_state=42),\n",
    "    \"Logistic Regression\": LogisticRegression(random_state=42),\n",
    "    \"SVM\": SVC(random_state=42),\n",
    "    \"Gradient Boosting\": GradientBoostingClassifier(random_state=42),\n",
    "    \"XGBoost\": XGBClassifier(random_state=42)\n",
    "}\n",
    "\n",
    "# Evaluate models\n",
    "for name, model in models.items():\n",
    "    model.fit(X_train, y_train)\n",
    "    y_pred = model.predict(X_test)\n",
    "    accuracy = accuracy_score(y_test, y_pred)\n",
    "    report = classification_report(y_test, y_pred)\n",
    "    print(f'{name} Accuracy: {accuracy}')\n",
    "    print(f'{name} Classification Report:\\n{report}')\n"
   ]
  },
  {
   "cell_type": "markdown",
   "id": "8a504ceb-fbcf-4ae2-be9f-26fd15fd0f56",
   "metadata": {},
   "source": [
    "# Results"
   ]
  },
  {
   "cell_type": "code",
   "execution_count": 17,
   "id": "49935dec-3cd3-4818-8a31-714cd1f46b1f",
   "metadata": {},
   "outputs": [
    {
     "name": "stdout",
     "output_type": "stream",
     "text": [
      "The predicted placement status for the new student is: Yes\n"
     ]
    }
   ],
   "source": [
    "import pandas as pd\n",
    "\n",
    "# Sample Input Data\n",
    "new_student_data = {\n",
    "    'CGPA': 7.0,\n",
    "    'Internships': 7,\n",
    "    'Projects': 10,\n",
    "    'Workshops/Certifications': 8,\n",
    "    'AptitudeTestScore': 75,\n",
    "    'SoftSkillsRating': 3,\n",
    "    'ExtracurricularActivities': 'Yes',\n",
    "    'PlacementTraining': 'No',\n",
    "    'SSC_Marks': 80,\n",
    "    'HSC_Marks': 75\n",
    "}\n",
    "\n",
    "def predict_placement(input_data):\n",
    "    # Convert input data to DataFrame\n",
    "    input_df = pd.DataFrame([input_data])\n",
    "    \n",
    "    # Encode categorical variables\n",
    "    input_df['ExtracurricularActivities'] = label_encoder.transform(input_df['ExtracurricularActivities'])\n",
    "    input_df['PlacementTraining'] = label_encoder.transform(input_df['PlacementTraining'])\n",
    "    \n",
    "    # Standardize features\n",
    "    input_scaled = scaler.transform(input_df)\n",
    "    \n",
    "    # Make prediction using the trained Logistic Regression model\n",
    "    prediction = logistic_model.predict(input_scaled)\n",
    "    \n",
    "    # Convert prediction back to original category\n",
    "    placement_status = label_encoder.inverse_transform(prediction)[0]\n",
    "    \n",
    "    return placement_status\n",
    "\n",
    "# Predict for the new student\n",
    "predicted_status = predict_placement(new_student_data)\n",
    "print(f'The predicted placement status for the new student is: {predicted_status}')\n"
   ]
  },
  {
   "cell_type": "code",
   "execution_count": null,
   "id": "50b6510a-883d-4e43-b44d-cddfe409097b",
   "metadata": {},
   "outputs": [],
   "source": []
  }
 ],
 "metadata": {
  "kernelspec": {
   "display_name": "Python 3 (ipykernel)",
   "language": "python",
   "name": "python3"
  },
  "language_info": {
   "codemirror_mode": {
    "name": "ipython",
    "version": 3
   },
   "file_extension": ".py",
   "mimetype": "text/x-python",
   "name": "python",
   "nbconvert_exporter": "python",
   "pygments_lexer": "ipython3",
   "version": "3.12.4"
  }
 },
 "nbformat": 4,
 "nbformat_minor": 5
}
