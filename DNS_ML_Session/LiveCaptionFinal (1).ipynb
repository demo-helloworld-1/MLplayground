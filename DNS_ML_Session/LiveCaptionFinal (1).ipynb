{
 "cells": [
  {
   "cell_type": "code",
   "execution_count": 2,
   "id": "39326478-01c6-4fa3-86e5-07efc49755b2",
   "metadata": {},
   "outputs": [
    {
     "name": "stdout",
     "output_type": "stream",
     "text": [
      "Collecting azure-cognitiveservices-speech\n",
      "  Downloading azure_cognitiveservices_speech-1.42.0-py3-none-win_amd64.whl.metadata (1.5 kB)\n",
      "Downloading azure_cognitiveservices_speech-1.42.0-py3-none-win_amd64.whl (2.4 MB)\n",
      "   ---------------------------------------- 0.0/2.4 MB ? eta -:--:--\n",
      "   ---------------------------------------- 0.0/2.4 MB ? eta -:--:--\n",
      "   - -------------------------------------- 0.1/2.4 MB 812.7 kB/s eta 0:00:03\n",
      "   ----- ---------------------------------- 0.3/2.4 MB 2.7 MB/s eta 0:00:01\n",
      "   ----------- ---------------------------- 0.7/2.4 MB 4.2 MB/s eta 0:00:01\n",
      "   -------------------- ------------------- 1.2/2.4 MB 5.9 MB/s eta 0:00:01\n",
      "   ------------------------------- -------- 1.9/2.4 MB 7.5 MB/s eta 0:00:01\n",
      "   ---------------------------------------- 2.4/2.4 MB 8.4 MB/s eta 0:00:00\n",
      "Installing collected packages: azure-cognitiveservices-speech\n",
      "Successfully installed azure-cognitiveservices-speech-1.42.0\n",
      "Note: you may need to restart the kernel to use updated packages.\n"
     ]
    }
   ],
   "source": [
    "pip install azure-cognitiveservices-speech"
   ]
  },
  {
   "cell_type": "code",
   "execution_count": null,
   "id": "884f8fc9-2326-402b-a7f2-609c9c45a767",
   "metadata": {},
   "outputs": [],
   "source": [
    "import azure.cognitiveservices.speech as speechsdk\n",
    "\n",
    "def speech_recognition_with_real_time_captioning():\n",
    "    # Replace with your Azure Speech service resource key and region\n",
    "    resource_key = \"AF6QB00RcUdJyG5IxKwn3XGOkkTGFz8eSFkI26lNBXML0oUjRsKzJQQJ99BBACYeBjFXJ3w3AAAYACOGbB4P\"\n",
    "    region = \"eastus\"\n",
    "\n",
    "    # Create a speech configuration\n",
    "    speech_config = speechsdk.SpeechConfig(subscription=resource_key, region=region)\n",
    "\n",
    "    # Create a speech recognizer\n",
    "    speech_recognizer = speechsdk.SpeechRecognizer(speech_config=speech_config)\n",
    "\n",
    "    def recognized(evt):\n",
    "        print(f\"Recognized: {evt.result.text}\")\n",
    "\n",
    "    def recognizing(evt):\n",
    "        print(f\"Recognizing: {evt.result.text}\")\n",
    "\n",
    "    # Connect the event handlers\n",
    "    speech_recognizer.recognized.connect(recognized)\n",
    "    speech_recognizer.recognizing.connect(recognizing)\n",
    "\n",
    "    # Start continuous recognition\n",
    "    print(\"Starting real-time captioning...\")\n",
    "    speech_recognizer.start_continuous_recognition()\n",
    "\n",
    "    # Keep the program running\n",
    "    try:\n",
    "        while True:\n",
    "            pass\n",
    "    except KeyboardInterrupt:\n",
    "        print(\"Stopping real-time captioning...\")\n",
    "        speech_recognizer.stop_continuous_recognition()\n",
    "\n",
    "if __name__ == \"__main__\":\n",
    "    speech_recognition_with_real_time_captioning()\n"
   ]
  },
  {
   "cell_type": "code",
   "execution_count": null,
   "id": "c8424fbf-06b7-4b5c-bde9-95fa556ee477",
   "metadata": {},
   "outputs": [],
   "source": []
  }
 ],
 "metadata": {
  "kernelspec": {
   "display_name": "Python 3 (ipykernel)",
   "language": "python",
   "name": "python3"
  },
  "language_info": {
   "codemirror_mode": {
    "name": "ipython",
    "version": 3
   },
   "file_extension": ".py",
   "mimetype": "text/x-python",
   "name": "python",
   "nbconvert_exporter": "python",
   "pygments_lexer": "ipython3",
   "version": "3.12.4"
  }
 },
 "nbformat": 4,
 "nbformat_minor": 5
}
